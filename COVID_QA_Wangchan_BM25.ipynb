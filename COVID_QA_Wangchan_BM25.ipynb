{
 "cells": [
  {
   "cell_type": "markdown",
   "metadata": {},
   "source": [
    "# COVID Troll QA (Thai)\n",
    "\n",
    "A tutorial to create a Question Answering system to answer COVID-19 related questions.\n",
    "\n",
    "## Data\n",
    "\n",
    "From this page https://nlpforthai.com/tasks/question-answering/ , `iapp-wiki-qa-dataset` and `Thai WIKI QA` are used in this tutorial.\n",
    "\n",
    "Big thanks to all parties!\n",
    "\n",
    "\n",
    "## Steps in a nutshell\n",
    "0. Load data and convert to `transformers` package format\n",
    "1. Load a pretrained language model (wangchanBERTa)\n",
    "2. Fine-tune the model in step 1.\n",
    "3. Create a document ranking logic to retrive several relevant documents (BM25)\n",
    "4. Find answer candidates in the documents in step 3."
   ]
  },
  {
   "cell_type": "markdown",
   "metadata": {},
   "source": [
    "## 0. Load data and convert to `transformers` package format"
   ]
  },
  {
   "cell_type": "code",
   "execution_count": 1,
   "metadata": {
    "id": "c3I2rzCfZhHm"
   },
   "outputs": [],
   "source": [
    "import os"
   ]
  },
  {
   "cell_type": "code",
   "execution_count": 2,
   "metadata": {
    "id": "YK2usvQEQEFZ"
   },
   "outputs": [],
   "source": [
    "import pandas as pd"
   ]
  },
  {
   "cell_type": "code",
   "execution_count": 3,
   "metadata": {
    "id": "T7CTztb5YHCm"
   },
   "outputs": [],
   "source": [
    "prechecked_broken_pos = [11860, 12204, 12228, 12559, 12952, 12965, 13612, 13851, 13893, 14028, 14086, 14166, 14815, 15570, 15579, 15674, 15675, 15787, 16209, 16332, 16376, 16427]"
   ]
  },
  {
   "cell_type": "code",
   "execution_count": 4,
   "metadata": {
    "colab": {
     "base_uri": "https://localhost:8080/"
    },
    "id": "UoXuRiTmcENk",
    "outputId": "0651d1ac-bce0-45f1-ffc5-5fc0b5dc2514"
   },
   "outputs": [
    {
     "name": "stdout",
     "output_type": "stream",
     "text": [
      "Before drop: 22181\n",
      "After drop: 16950\n"
     ]
    }
   ],
   "source": [
    "df_qa = pd.read_csv('Thai_QA_NSCWiki_iApp.csv')\n",
    "\n",
    "# keep only rows that have an answer before 512nd position\n",
    "max_len = 500\n",
    "print(\"Before drop:\", len(df_qa))\n",
    "df_qa = df_qa[df_qa['answer_end_pos'] < max_len - 30].reset_index(drop=True)\n",
    "df_qa = df_qa.drop(index=prechecked_broken_pos).reset_index(drop=True)\n",
    "print(\"After drop:\", len(df_qa))"
   ]
  },
  {
   "cell_type": "code",
   "execution_count": 9,
   "metadata": {
    "colab": {
     "base_uri": "https://localhost:8080/",
     "height": 111
    },
    "id": "o8bLlsWzRES5",
    "outputId": "c712e265-525a-4591-c16b-da3d1de3e3c0"
   },
   "outputs": [
    {
     "data": {
      "text/html": [
       "<div>\n",
       "<style scoped>\n",
       "    .dataframe tbody tr th:only-of-type {\n",
       "        vertical-align: middle;\n",
       "    }\n",
       "\n",
       "    .dataframe tbody tr th {\n",
       "        vertical-align: top;\n",
       "    }\n",
       "\n",
       "    .dataframe thead th {\n",
       "        text-align: right;\n",
       "    }\n",
       "</style>\n",
       "<table border=\"1\" class=\"dataframe\">\n",
       "  <thead>\n",
       "    <tr style=\"text-align: right;\">\n",
       "      <th></th>\n",
       "      <th>question_id</th>\n",
       "      <th>question</th>\n",
       "      <th>answer</th>\n",
       "      <th>answer_begin_pos</th>\n",
       "      <th>answer_end_pos</th>\n",
       "      <th>context</th>\n",
       "      <th>article_id</th>\n",
       "      <th>source</th>\n",
       "    </tr>\n",
       "  </thead>\n",
       "  <tbody>\n",
       "    <tr>\n",
       "      <th>0</th>\n",
       "      <td>1</td>\n",
       "      <td>สุนัขตัวแรกรับบทเป็นเบนจี้ในภาพยนตร์เรื่อง Ben...</td>\n",
       "      <td>ฮิกกิ้นส์</td>\n",
       "      <td>447</td>\n",
       "      <td>456</td>\n",
       "      <td>เบนจี้ เบนจี้ () เป็นชื่อตัวละครหมาพันทางแสนรู...</td>\n",
       "      <td>115035</td>\n",
       "      <td>thai_wiki_qa</td>\n",
       "    </tr>\n",
       "    <tr>\n",
       "      <th>1</th>\n",
       "      <td>2</td>\n",
       "      <td>ลูนา 1 เป็นยานอวกาศลำแรกในโครงการลูนาของโซเวีย...</td>\n",
       "      <td>เมชตา</td>\n",
       "      <td>57</td>\n",
       "      <td>62</td>\n",
       "      <td>ลูนา 1 ลูนา 1 (อี-1 ซีรีส์) ซึ่งในขณะนั้นรู้จั...</td>\n",
       "      <td>376583</td>\n",
       "      <td>thai_wiki_qa</td>\n",
       "    </tr>\n",
       "  </tbody>\n",
       "</table>\n",
       "</div>"
      ],
      "text/plain": [
       "  question_id  ...        source\n",
       "0           1  ...  thai_wiki_qa\n",
       "1           2  ...  thai_wiki_qa\n",
       "\n",
       "[2 rows x 8 columns]"
      ]
     },
     "execution_count": 9,
     "metadata": {
      "tags": []
     },
     "output_type": "execute_result"
    }
   ],
   "source": [
    "df_qa.head(2)"
   ]
  },
  {
   "cell_type": "code",
   "execution_count": 10,
   "metadata": {
    "id": "v9jBFBc0UBsA"
   },
   "outputs": [],
   "source": [
    "train_contexts = df_qa['context'].apply(lambda x: x.lower()).tolist()\n",
    "train_questions = df_qa['question'].apply(lambda x: x.lower()).tolist()\n",
    "train_answers = [\n",
    "                 {'answer_start': row['answer_begin_pos'], \n",
    "                  'answer_end': row['answer_end_pos'], \n",
    "                  'text': row['answer'].lower()\n",
    "                  } for _, row in df_qa.iterrows()\n",
    "                  ]"
   ]
  },
  {
   "cell_type": "code",
   "execution_count": 11,
   "metadata": {
    "colab": {
     "base_uri": "https://localhost:8080/"
    },
    "id": "APdAKDF0YHCw",
    "outputId": "88b9af31-7765-44dc-c8a1-dc5b747a4b6d"
   },
   "outputs": [
    {
     "data": {
      "text/plain": [
       "{'answer_end': 199, 'answer_start': 192, 'text': 'ปี 1933'}"
      ]
     },
     "execution_count": 11,
     "metadata": {
      "tags": []
     },
     "output_type": "execute_result"
    }
   ],
   "source": [
    "train_answers[2]"
   ]
  },
  {
   "cell_type": "markdown",
   "metadata": {},
   "source": [
    "## 1. Load a pretrained language model (wangchanBERTa)"
   ]
  },
  {
   "cell_type": "code",
   "execution_count": 12,
   "metadata": {
    "colab": {
     "base_uri": "https://localhost:8080/",
     "height": 318,
     "referenced_widgets": [
      "08dbd952f69c40ffaff733251bcbd215",
      "13aeb1492b86453a9e4baa3148259908",
      "e875dcb763234e1e952b7df5fe2f6f73",
      "5c45386fab7a4147b993c0fd4ecf6419",
      "262ad8eb4b864a859ef3b4dd800a371c",
      "3651a05e5fcc4ef2be93fd76592b08cc",
      "ef9e68091969495f827cf5eb8e454395",
      "d582ff3e0a104d049cc0e240b8304bee",
      "12f41cf2d5d74203b56f091a6f53ca3b",
      "05a410b2e2944c64bb3d0e1f8e7c2bc2",
      "82400a9a3fce4d37b745228f0f54cb4b",
      "039c8d80a3854efe9596f7bbc97075cc",
      "142b6ceba51e468c9a1b58f04e8d2c8b",
      "d37146f85aea4336b467b7fb2ec90195",
      "57d7a01394c94037b218064215ee8b67",
      "3e65f81d91ce44c58259dc00e53623a8",
      "9629612b6b1c4d0ca2104c0ca1aa8b9a",
      "e81fb4aa532d4abca2a67691cd37e14a",
      "6b165d77d622461b840d463c9b6949e7",
      "d53edfba62e44a848acc47bfc5b627e7",
      "179d9c063dfc492b8a91afdd330696d4",
      "459e3f0c13734540ad98345b9d26db51",
      "315d4ddbdd584f54993edc398dfea993",
      "91832ecf473f4775ad10a21f9a66b5ac",
      "5fd37e65ee10430dbed2f4ea74f7cffe",
      "5095955c7d0e49048f75edd0383b2261",
      "900e8a55a9a843cb807c810953944bbf",
      "529ccd6c4978440494a751bd7aae71e7",
      "90812b30829a41849818c87b7eda1c0a",
      "335e306507cb409b98b147c4e2e1761e",
      "ef8c8be496c8446db94043be22f682d2",
      "c5149cd271224f18aacfc1e30574fbea"
     ]
    },
    "id": "5x-we4zeSeN3",
    "outputId": "c9f58d63-83d4-44af-d991-e83e8d21b65f"
   },
   "outputs": [
    {
     "data": {
      "application/vnd.jupyter.widget-view+json": {
       "model_id": "08dbd952f69c40ffaff733251bcbd215",
       "version_major": 2,
       "version_minor": 0
      },
      "text/plain": [
       "HBox(children=(FloatProgress(value=0.0, description='Downloading', max=282.0, style=ProgressStyle(description_…"
      ]
     },
     "metadata": {
      "tags": []
     },
     "output_type": "display_data"
    },
    {
     "name": "stdout",
     "output_type": "stream",
     "text": [
      "\n"
     ]
    },
    {
     "data": {
      "application/vnd.jupyter.widget-view+json": {
       "model_id": "12f41cf2d5d74203b56f091a6f53ca3b",
       "version_major": 2,
       "version_minor": 0
      },
      "text/plain": [
       "HBox(children=(FloatProgress(value=0.0, description='Downloading', max=546.0, style=ProgressStyle(description_…"
      ]
     },
     "metadata": {
      "tags": []
     },
     "output_type": "display_data"
    },
    {
     "name": "stdout",
     "output_type": "stream",
     "text": [
      "\n"
     ]
    },
    {
     "data": {
      "application/vnd.jupyter.widget-view+json": {
       "model_id": "9629612b6b1c4d0ca2104c0ca1aa8b9a",
       "version_major": 2,
       "version_minor": 0
      },
      "text/plain": [
       "HBox(children=(FloatProgress(value=0.0, description='Downloading', max=904693.0, style=ProgressStyle(descripti…"
      ]
     },
     "metadata": {
      "tags": []
     },
     "output_type": "display_data"
    },
    {
     "name": "stdout",
     "output_type": "stream",
     "text": [
      "\n"
     ]
    },
    {
     "data": {
      "application/vnd.jupyter.widget-view+json": {
       "model_id": "5fd37e65ee10430dbed2f4ea74f7cffe",
       "version_major": 2,
       "version_minor": 0
      },
      "text/plain": [
       "HBox(children=(FloatProgress(value=0.0, description='Downloading', max=423498558.0, style=ProgressStyle(descri…"
      ]
     },
     "metadata": {
      "tags": []
     },
     "output_type": "display_data"
    },
    {
     "name": "stdout",
     "output_type": "stream",
     "text": [
      "\n"
     ]
    },
    {
     "name": "stderr",
     "output_type": "stream",
     "text": [
      "Some weights of the model checkpoint at airesearch/wangchanberta-base-att-spm-uncased were not used when initializing CamembertForQuestionAnswering: ['lm_head.dense.weight', 'lm_head.decoder.bias', 'lm_head.layer_norm.bias', 'lm_head.layer_norm.weight', 'lm_head.bias', 'lm_head.dense.bias', 'lm_head.decoder.weight']\n",
      "- This IS expected if you are initializing CamembertForQuestionAnswering from the checkpoint of a model trained on another task or with another architecture (e.g. initializing a BertForSequenceClassification model from a BertForPreTraining model).\n",
      "- This IS NOT expected if you are initializing CamembertForQuestionAnswering from the checkpoint of a model that you expect to be exactly identical (initializing a BertForSequenceClassification model from a BertForSequenceClassification model).\n",
      "Some weights of CamembertForQuestionAnswering were not initialized from the model checkpoint at airesearch/wangchanberta-base-att-spm-uncased and are newly initialized: ['qa_outputs.bias', 'qa_outputs.weight']\n",
      "You should probably TRAIN this model on a down-stream task to be able to use it for predictions and inference.\n"
     ]
    }
   ],
   "source": [
    "from transformers import AutoTokenizer, AutoModelForQuestionAnswering\n",
    "\n",
    "model_name = \"airesearch/wangchanberta-base-att-spm-uncased\"\n",
    "\n",
    "tokenizer = AutoTokenizer.from_pretrained(model_name)\n",
    "\n",
    "model = AutoModelForQuestionAnswering.from_pretrained(model_name)"
   ]
  },
  {
   "cell_type": "code",
   "execution_count": 13,
   "metadata": {
    "colab": {
     "base_uri": "https://localhost:8080/"
    },
    "id": "BkNcI_8-SvFZ",
    "outputId": "35f5b48b-384b-43d9-88db-b13b0e203769"
   },
   "outputs": [
    {
     "name": "stdout",
     "output_type": "stream",
     "text": [
      "CPU times: user 1min 23s, sys: 1.52 s, total: 1min 24s\n",
      "Wall time: 43.5 s\n"
     ]
    }
   ],
   "source": [
    "%%time\n",
    "train_encodings = tokenizer(train_contexts, train_questions, truncation=True, padding=True, max_length=max_len)"
   ]
  },
  {
   "cell_type": "code",
   "execution_count": 14,
   "metadata": {
    "id": "PYeaAxqYUxE0"
   },
   "outputs": [],
   "source": [
    "def add_token_positions(encodings, answers):\n",
    "    start_positions = []\n",
    "    end_positions = []\n",
    "    broken_pos = []\n",
    "    for i in range(len(answers)):\n",
    "        start_positions.append(encodings.char_to_token(i, answers[i]['answer_start']))\n",
    "        end_positions.append(encodings.char_to_token(i, answers[i]['answer_end'] - 1))\n",
    "\n",
    "        # if start position is None, the answer passage has been truncated\n",
    "        if start_positions[-1] is None:\n",
    "            print(\"Start position of\", i, \"is broken\")\n",
    "            broken_pos.append(i)\n",
    "            start_positions[-1] = tokenizer.model_max_length            \n",
    "        if end_positions[-1] is None:\n",
    "            print(\"End position of\", i, \"is broken\")\n",
    "            end_positions[-1] = tokenizer.model_max_length\n",
    "            broken_pos.append(i)\n",
    "\n",
    "    encodings.update({'start_positions': start_positions, 'end_positions': end_positions})\n",
    "    return broken_pos\n",
    "\n",
    "broken_pos = add_token_positions(train_encodings, train_answers)"
   ]
  },
  {
   "cell_type": "code",
   "execution_count": 15,
   "metadata": {
    "id": "ScKb3uOgU7gN"
   },
   "outputs": [],
   "source": [
    "import torch\n",
    "\n",
    "class WikiQATHDataset(torch.utils.data.Dataset):\n",
    "    def __init__(self, encodings):\n",
    "        self.encodings = encodings\n",
    "\n",
    "    def __getitem__(self, idx):        \n",
    "        return {key: torch.tensor(val[idx]) for key, val in self.encodings.items()}\n",
    "\n",
    "    def __len__(self):\n",
    "        return len(self.encodings.input_ids)\n",
    "\n",
    "train_dataset = WikiQATHDataset(train_encodings)"
   ]
  },
  {
   "cell_type": "markdown",
   "metadata": {},
   "source": [
    "## 2. Fine-tune the model in step 1."
   ]
  },
  {
   "cell_type": "code",
   "execution_count": 17,
   "metadata": {
    "colab": {
     "base_uri": "https://localhost:8080/"
    },
    "id": "QM7frERpVHJj",
    "outputId": "e82e8e3a-b41b-4ce4-98da-7e71d152422c"
   },
   "outputs": [
    {
     "name": "stdout",
     "output_type": "stream",
     "text": [
      "Device: cuda\n",
      "Batch 0\n",
      "Batch 500\n",
      "Batch 1000\n",
      "Batch 1500\n",
      "Batch 2000\n",
      "Epoch: 1 Loss: 2080.4841587916017\n",
      "Save model to google drive\n",
      "Batch 0\n",
      "Batch 500\n",
      "Batch 1000\n",
      "Batch 1500\n",
      "Batch 2000\n",
      "Epoch: 2 Loss: 1459.9210587069392\n",
      "Save model to google drive\n",
      "Batch 0\n",
      "Batch 500\n",
      "Batch 1000\n",
      "Batch 1500\n",
      "Batch 2000\n",
      "Epoch: 3 Loss: 1065.663506789133\n",
      "Save model to google drive\n",
      "Batch 0\n",
      "Batch 500\n",
      "Batch 1000\n",
      "Batch 1500\n",
      "Batch 2000\n",
      "Epoch: 4 Loss: 864.8384659551084\n",
      "Save model to google drive\n",
      "CPU times: user 2h 2min 45s, sys: 22.4 s, total: 2h 3min 7s\n",
      "Wall time: 2h 3min 29s\n"
     ]
    }
   ],
   "source": [
    "%%time\n",
    "\n",
    "from torch.utils.data import DataLoader\n",
    "from transformers import AdamW\n",
    "\n",
    "device = torch.device('cuda') if torch.cuda.is_available() else torch.device('cpu')\n",
    "# device = 'cpu'\n",
    "print(\"Device:\", device)\n",
    "\n",
    "model.to(device)\n",
    "model.train()\n",
    "\n",
    "losses = []\n",
    "\n",
    "batch_size = 8\n",
    "\n",
    "train_loader = DataLoader(train_dataset, batch_size=batch_size, shuffle=True)\n",
    "\n",
    "optim = AdamW(model.parameters(), lr=2e-5)\n",
    "\n",
    "for epoch in range(4):\n",
    "    \n",
    "    loss_ep = []\n",
    "    for i, batch in enumerate(train_loader):\n",
    "        if i % 500 == 0:\n",
    "          print(\"Batch\", i)\n",
    "        optim.zero_grad()        \n",
    "        input_ids = batch['input_ids'].to(device)\n",
    "        attention_mask = batch['attention_mask'].to(device)\n",
    "        start_positions = batch['start_positions'].to(device)\n",
    "        end_positions = batch['end_positions'].to(device)\n",
    "\n",
    "        try:\n",
    "          outputs = model(input_ids, attention_mask=attention_mask, start_positions=start_positions, end_positions=end_positions)\n",
    "          loss = outputs[0]\n",
    "          loss_ep.append(loss.item())\n",
    "          loss.backward()\n",
    "          optim.step()\n",
    "        except RuntimeError as e:\n",
    "          print(\"Batch error\", i, e)\n",
    "\n",
    "    loss_total = sum(loss_ep)\n",
    "    losses.append(loss_total)\n",
    "    \n",
    "    print(\"Epoch:\", epoch + 1, \"Loss:\", loss_total)\n",
    "    # save model to google drive\n",
    "    print(\"Save model to google drive\")\n",
    "    model.save_pretrained('model_checkpoint/')\n",
    "    # os.system('cp model_checkpoint/* drive/MyDrive/ThaiWikiQA/model_checkpoint')\n",
    "\n",
    "\n",
    "_ = model.eval()"
   ]
  },
  {
   "cell_type": "code",
   "execution_count": 64,
   "metadata": {
    "id": "fDYpPX-HYHDB"
   },
   "outputs": [],
   "source": [
    "text = r\"\"\" กรุงเทพมหานคร เป็นเมืองหลวงและนครที่มีประชากรมากที่สุดของประเทศไทย เป็นศูนย์กลางการปกครอง การศึกษา การคมนาคมขนส่ง การเงินการธนาคาร การพาณิชย์ การสื่อสาร และความเจริญของประเทศ เป็นเมืองที่มีชื่อยาวที่สุดในโลก ตั้งอยู่บนสามเหลี่ยมปากแม่น้ำเจ้าพระยา มีแม่น้ำเจ้าพระยาไหลผ่านและแบ่งเมืองออกเป็น 2 ฝั่ง คือ ฝั่งพระนครและฝั่งธนบุรี กรุงเทพมหานครมีพื้นที่ทั้งหมด 1,568.737 ตร.กม. มีประชากรตามทะเบียนราษฎรกว่า 5 ล้านคน ทำให้กรุงเทพมหานครเป็นเอกนคร (Primate City) จัด มีผู้กล่าวว่า กรุงเทพมหานครเป็น 'เอกนครที่สุดในโลก' เพราะมีประชากรมากกว่านครที่มีประชากรมากเป็นอันดับ 2 ถึง 40 เท่า[3]\"\"\""
   ]
  },
  {
   "cell_type": "code",
   "execution_count": 65,
   "metadata": {
    "id": "WSxq9RyOFmEw"
   },
   "outputs": [],
   "source": [
    "questions = [\"แม่น้ำเจ้าพระยา ไหลผ่านและแบ่งเมืองออกเป็นฝั่งอะไร\"]"
   ]
  },
  {
   "cell_type": "code",
   "execution_count": 20,
   "metadata": {
    "id": "GCRIKcFgFaMj"
   },
   "outputs": [],
   "source": [
    "_ = model.to('cpu')"
   ]
  },
  {
   "cell_type": "code",
   "execution_count": 21,
   "metadata": {
    "id": "EiAFZ2C4YHDC"
   },
   "outputs": [],
   "source": [
    "import numpy as np\n",
    "\n",
    "def norm_with_softmax(inputs, x):\n",
    "    x = x.detach().numpy()\n",
    "    \n",
    "    # remove non-context part    \n",
    "    p_mask = [tok != 1 for tok in inputs.sequence_ids(0)]\n",
    "    \n",
    "    undesired_tokens = np.abs(np.array(p_mask) - 1) & inputs['attention_mask'].detach().numpy()\n",
    "    undesired_tokens_mask = undesired_tokens == 0.0\n",
    "    \n",
    "    x = np.where(undesired_tokens_mask, -10000.0, x)\n",
    "    \n",
    "    # calculate softmax\n",
    "    sm = np.exp(x - np.log(np.sum(np.exp(x), axis=-1, keepdims=True)))\n",
    "    return sm"
   ]
  },
  {
   "cell_type": "code",
   "execution_count": 62,
   "metadata": {
    "id": "SL-BnPOZYHDD"
   },
   "outputs": [],
   "source": [
    "def get_answer_and_score(context, question, print_qa=False):\n",
    "    model.eval()\n",
    "    inputs = tokenizer.encode_plus(question, context, add_special_tokens=True, \n",
    "                                   return_tensors=\"pt\", truncation=True, \n",
    "                                   max_length=max_len)\n",
    "    \n",
    "    input_ids = inputs[\"input_ids\"].tolist()[0]\n",
    "    \n",
    "\n",
    "    text_tokens = tokenizer.convert_ids_to_tokens(input_ids)\n",
    "    qa_output = model(**inputs)\n",
    "    answer_start_scores = norm_with_softmax(inputs, qa_output['start_logits'])[0]\n",
    "    answer_end_scores = norm_with_softmax(inputs, qa_output['end_logits'])[0]\n",
    "\n",
    "    answer_start = np.argmax(\n",
    "        answer_start_scores\n",
    "    )  # Get the most likely beginning of answer with the argmax of the score\n",
    "    answer_end = np.argmax(answer_end_scores) + 1  # Get the most likely end of answer with the argmax of the score    \n",
    "    score = answer_start_scores[answer_start] * answer_end_scores[answer_end]\n",
    "    answer = tokenizer.convert_tokens_to_string(tokenizer.convert_ids_to_tokens(input_ids[answer_start:answer_end]))\n",
    "\n",
    "    if print_qa:\n",
    "      print(f\"Question: {question}\")\n",
    "      print(f\"Answer: {answer}\\n\")\n",
    "      \n",
    "    return answer, score"
   ]
  },
  {
   "cell_type": "code",
   "execution_count": 66,
   "metadata": {
    "colab": {
     "base_uri": "https://localhost:8080/"
    },
    "id": "0RqjXC0aYHDE",
    "outputId": "8a108217-1e43-4937-adad-812d8ccb8464"
   },
   "outputs": [
    {
     "data": {
      "text/plain": [
       "('ฝั่งพระนครและฝั่งธนบุรี', 0.0051432136)"
      ]
     },
     "execution_count": 66,
     "metadata": {
      "tags": []
     },
     "output_type": "execute_result"
    }
   ],
   "source": [
    "get_answer_and_score(text, questions[0])"
   ]
  },
  {
   "cell_type": "markdown",
   "metadata": {
    "id": "X1Ew6RiaGrs1"
   },
   "source": [
    "## 3. Create a document ranking logic to retrive several relevant documents (BM25)"
   ]
  },
  {
   "cell_type": "code",
   "execution_count": 25,
   "metadata": {
    "id": "Qkfc_eZSYHDG"
   },
   "outputs": [],
   "source": [
    "import glob"
   ]
  },
  {
   "cell_type": "code",
   "execution_count": 26,
   "metadata": {
    "id": "E_l71YiJYHDG"
   },
   "outputs": [],
   "source": [
    "from rank_bm25 import BM25Okapi"
   ]
  },
  {
   "cell_type": "code",
   "execution_count": 29,
   "metadata": {
    "id": "QG7ZVKr8YHDG"
   },
   "outputs": [],
   "source": [
    "from pythainlp.tokenize import word_tokenize"
   ]
  },
  {
   "cell_type": "code",
   "execution_count": 30,
   "metadata": {
    "id": "j3ZwC0Z9YHDG"
   },
   "outputs": [],
   "source": [
    "doc_dir = 'line_grp_articles/'"
   ]
  },
  {
   "cell_type": "code",
   "execution_count": 71,
   "metadata": {
    "id": "HBD_RePgYHDH"
   },
   "outputs": [],
   "source": [
    "def chunk(doc, chunk_max_char=800):\n",
    "    doc_len = len(doc)\n",
    "    n_chunks = int(np.ceil(doc_len / chunk_max_char))\n",
    "    \n",
    "    chunks = []\n",
    "    for i in range(n_chunks):\n",
    "        begin = chunk_max_char * i\n",
    "        end = begin + chunk_max_char\n",
    "        chunks.append(doc[begin:end])\n",
    "    return chunks\n",
    "\n",
    "def chunk_docs(docs, chunk_max_char=800):    \n",
    "    doc_chunks = []\n",
    "    for doc in docs:\n",
    "        chunks = _chunk(doc, chunk_max_char)\n",
    "        doc_chunks.extend(chunks)\n",
    "    \n",
    "    return doc_chunks        "
   ]
  },
  {
   "cell_type": "code",
   "execution_count": 72,
   "metadata": {
    "id": "VfETjccnYHDG"
   },
   "outputs": [],
   "source": [
    "filenames = glob.glob(doc_dir + '*.txt')\n",
    "\n",
    "corpus = []\n",
    "corpus_tkn = []\n",
    "\n",
    "for fn in filenames:\n",
    "    with open(fn, 'r') as f:\n",
    "        doc = f.read().replace('\\n', '  ')   # remove linebreak\n",
    "        doc_chunks = chunk(doc)\n",
    "        corpus.extend(doc_chunks)   \n",
    "\n",
    "corpus_tkn = list(map(word_tokenize, corpus))"
   ]
  },
  {
   "cell_type": "code",
   "execution_count": 73,
   "metadata": {
    "id": "QDHQq304YHDH"
   },
   "outputs": [],
   "source": [
    "bm25 = BM25Okapi(corpus_tkn)"
   ]
  },
  {
   "cell_type": "code",
   "execution_count": 74,
   "metadata": {
    "id": "4S1kWVbJYHDH"
   },
   "outputs": [],
   "source": [
    "def get_best_matches(query, n=3):\n",
    "    query_tkn = word_tokenize(query)\n",
    "    docs = bm25.get_top_n(query_tkn, corpus, n=n)\n",
    "    return docs"
   ]
  },
  {
   "cell_type": "code",
   "execution_count": 115,
   "metadata": {
    "id": "JIx2fh_iYHDH"
   },
   "outputs": [],
   "source": [
    "def ask_model(query, n=3, chunk_max_char=800):\n",
    "    # retrive most relevant n*1.5 documents (generate many candidates, then filter blank answers out)\n",
    "    docs = get_best_matches(query, n=n)\n",
    "    # chunk extra-long docs\n",
    "    doc_chunks = chunk_docs(docs, chunk_max_char)\n",
    "    \n",
    "    # ask q question on each chunk\n",
    "    ans_and_scores = sorted([get_answer_and_score(doc, query) for doc in doc_chunks], key=lambda x: x[1], reverse=True)\n",
    "    # remove blank answers\n",
    "    ans_and_scores = list(filter(lambda x: len(x[0]) > 0, ans_and_scores))\n",
    "    # get most confident one\n",
    "    best_ans = ans_and_scores[0]\n",
    "    \n",
    "    return best_ans, ans_and_scores        "
   ]
  },
  {
   "cell_type": "markdown",
   "metadata": {},
   "source": [
    "## 4. Find answer candidates in the documents in step 3."
   ]
  },
  {
   "cell_type": "code",
   "execution_count": 102,
   "metadata": {
    "colab": {
     "base_uri": "https://localhost:8080/"
    },
    "id": "0Q0hbmciYHDI",
    "outputId": "95a3c903-6ecc-4cc2-913d-adeef9394a94"
   },
   "outputs": [
    {
     "data": {
      "text/plain": [
       "(('หอมแดง และ กระเทียม', 0.00096342963),\n",
       " [('หอมแดง และ กระเทียม', 0.00096342963), ('แอสไพริน', 0.00019585372)])"
      ]
     },
     "execution_count": 102,
     "metadata": {
      "tags": []
     },
     "output_type": "execute_result"
    }
   ],
   "source": [
    "ask_model(\"หอมแดง ควรกินกับอะไร เพื่อรักษาโควิด\", n=2)"
   ]
  },
  {
   "cell_type": "code",
   "execution_count": 103,
   "metadata": {
    "colab": {
     "base_uri": "https://localhost:8080/"
    },
    "id": "ByYVAvEhAb4J",
    "outputId": "1569f73f-0ed3-470c-878e-5c4323101a8b"
   },
   "outputs": [
    {
     "data": {
      "text/plain": [
       "(('โปรตีน', 0.0042575966),\n",
       " [('โปรตีน', 0.0042575966),\n",
       "  ('ดร.อาทิตย์” โพสต์ สหรัฐฯยอมรับแล้ว วัคซีนที่ดีที่สุดคือของจีน',\n",
       "   0.0011938916)])"
      ]
     },
     "execution_count": 103,
     "metadata": {
      "tags": []
     },
     "output_type": "execute_result"
    }
   ],
   "source": [
    "ask_model(\"วัคซีนอะไรดีที่สุด\", n=2, chunk_max_char=600)"
   ]
  },
  {
   "cell_type": "code",
   "execution_count": 104,
   "metadata": {
    "colab": {
     "base_uri": "https://localhost:8080/"
    },
    "id": "mzdIJdY7An2q",
    "outputId": "3475eb48-84a9-474d-ed5b-6f68198dbdf9"
   },
   "outputs": [
    {
     "data": {
      "text/plain": [
       "(('กินกระท่อม', 0.015897416),\n",
       " [('กินกระท่อม', 0.015897416), ('กินยาจีน', 0.004160854)])"
      ]
     },
     "execution_count": 104,
     "metadata": {
      "tags": []
     },
     "output_type": "execute_result"
    }
   ],
   "source": [
    "ask_model(\"ติดโควิดควรกินอะไร\", n=2)"
   ]
  },
  {
   "cell_type": "code",
   "execution_count": 105,
   "metadata": {
    "colab": {
     "base_uri": "https://localhost:8080/"
    },
    "id": "hVaCZDAbHajK",
    "outputId": "5fa2dad6-e739-4c2a-80d1-31c3c5481d7d"
   },
   "outputs": [
    {
     "data": {
      "text/plain": [
       "(('กินยาจีน', 0.0019697412),\n",
       " [('กินยาจีน', 0.0019697412), ('ห้ามกินทุเรียน', 0.0012407483)])"
      ]
     },
     "execution_count": 105,
     "metadata": {
      "tags": []
     },
     "output_type": "execute_result"
    }
   ],
   "source": [
    "ask_model(\"ติดโควิดห้ามกินอะไร\", n=2)"
   ]
  },
  {
   "cell_type": "code",
   "execution_count": 106,
   "metadata": {
    "colab": {
     "base_uri": "https://localhost:8080/"
    },
    "id": "No-GBe_WBgUE",
    "outputId": "b30af6f6-4ae6-4c90-f3da-7f3661c0fd7a"
   },
   "outputs": [
    {
     "data": {
      "text/plain": [
       "(('จะไปจับความผิดพลาดได้ไหม', 0.04440104),\n",
       " [('จะไปจับความผิดพลาดได้ไหม', 0.04440104),\n",
       "  ('ไทยจะลดความเสี่ยง ที่เพื่อนบ้านจะนําเชื้อเข้ามาแพร่อีกด้วย ย้ําอีกครั้ง <unk> เลือกไทย ไม่ใช่เพราะว่า ไทยน่าสนใจและอยากเข้ามาเปิดประมูล แต่เป็นเพราะความร่วมมือภาคเอกชน ที่อาศัยเส้นสายจนเขายอมรับ และยอมเสียผลประโยชน์บางอย่าง เพื่อทําให้อุดมการณ์ของ <unk>xford เป็นจริง นั่นคือ การกระจายวัคซีนให้มากที่สุด และถูกที่สุดเท่าที่จะทําได้',\n",
       "   0.00034202)])"
      ]
     },
     "execution_count": 106,
     "metadata": {
      "tags": []
     },
     "output_type": "execute_result"
    }
   ],
   "source": [
    "ask_model(\"ใครปิดทองหลังวัคซีน\", n=2)"
   ]
  },
  {
   "cell_type": "code",
   "execution_count": 114,
   "metadata": {
    "colab": {
     "base_uri": "https://localhost:8080/"
    },
    "id": "vo23SybJCFlB",
    "outputId": "6c5c439e-6748-4167-991d-b9b16db5f886"
   },
   "outputs": [
    {
     "data": {
      "text/plain": [
       "(('ที่ประเทศกําลังพัฒนา ขนาดกลางอย่างไทย', 0.02846697),\n",
       " [('ที่ประเทศกําลังพัฒนา ขนาดกลางอย่างไทย', 0.02846697),\n",
       "  ('ยุววิศวกรบพิธ', 0.021682635),\n",
       "  ('ศ.นพ.ยง ภู่วรวรรณ', 0.010183519),\n",
       "  ('ตลาดวัคซีนเป็นของผู้ขาย ไม่ใช่ผู้ซื้อ', 0.0007883236),\n",
       "  ('ใช้งบ <unk> 100 ล้าน พร้อมพนักงาน 50-60 คน เข้าไปรุมช่วยสยามไบโอไซ',\n",
       "   0.00011320774)])"
      ]
     },
     "execution_count": 114,
     "metadata": {
      "tags": []
     },
     "output_type": "execute_result"
    }
   ],
   "source": [
    "ask_model(\"SCG ทำอะไร\", n=5)"
   ]
  },
  {
   "cell_type": "code",
   "execution_count": 111,
   "metadata": {
    "colab": {
     "base_uri": "https://localhost:8080/"
    },
    "id": "CkBl5SCBCoDp",
    "outputId": "69f941e5-b95c-44c7-b715-0259f91ae003"
   },
   "outputs": [
    {
     "data": {
      "text/plain": [
       "(('ดร.อาทิตย์” โพสต์ สหรัฐฯยอมรับแล้ว วัคซีนที่ดีที่สุดคือของจีน ระบุ “ไฟเซอร์” อยู่อันดับที่ 6',\n",
       "  0.0016930654),\n",
       " [('ดร.อาทิตย์” โพสต์ สหรัฐฯยอมรับแล้ว วัคซีนที่ดีที่สุดคือของจีน ระบุ “ไฟเซอร์” อยู่อันดับที่ 6',\n",
       "   0.0016930654)])"
      ]
     },
     "execution_count": 111,
     "metadata": {
      "tags": []
     },
     "output_type": "execute_result"
    }
   ],
   "source": [
    "ask_model(\"สหรัฐบอกว่า pfizer เป็นวัคซีนอันดับที่เท่าไหร่\", n=1)"
   ]
  },
  {
   "cell_type": "code",
   "execution_count": 89,
   "metadata": {
    "colab": {
     "base_uri": "https://localhost:8080/"
    },
    "id": "ttl3MSWEC3LQ",
    "outputId": "5022904d-e561-4c58-d3a1-1e9ed080a96b"
   },
   "outputs": [
    {
     "data": {
      "text/plain": [
       "(('ดร.อาทิตย์” โพสต์ สหรัฐฯยอมรับแล้ว วัคซีนที่ดีที่สุดคือของจีน',\n",
       "  0.0011938916),\n",
       " [('ดร.อาทิตย์” โพสต์ สหรัฐฯยอมรับแล้ว วัคซีนที่ดีที่สุดคือของจีน',\n",
       "   0.0011938916)])"
      ]
     },
     "execution_count": 89,
     "metadata": {
      "tags": []
     },
     "output_type": "execute_result"
    }
   ],
   "source": [
    "ask_model(\"วัคซีนอะไรดีที่สุด\", n=1)"
   ]
  },
  {
   "cell_type": "code",
   "execution_count": 97,
   "metadata": {
    "colab": {
     "base_uri": "https://localhost:8080/"
    },
    "id": "cncj27aNG5VP",
    "outputId": "e32e84bc-9a53-4283-d32f-6423f87331e3"
   },
   "outputs": [
    {
     "data": {
      "text/plain": [
       "(('ยาฆ่าเชื้อโควิด 19', 0.0077594207),\n",
       " [('ยาฆ่าเชื้อโควิด 19', 0.0077594207), ('พริกไทยบ่น 1 ช้อนชา', 0.0014260751)])"
      ]
     },
     "execution_count": 97,
     "metadata": {
      "tags": []
     },
     "output_type": "execute_result"
    }
   ],
   "source": [
    "ask_model(\"นักศึกษาอินเดียค้นพบอะไร\", n=3)"
   ]
  },
  {
   "cell_type": "code",
   "execution_count": 117,
   "metadata": {
    "colab": {
     "base_uri": "https://localhost:8080/"
    },
    "id": "LzbatdaPHfjl",
    "outputId": "03fe5696-8774-4c58-ddd2-16e46609bba0"
   },
   "outputs": [
    {
     "data": {
      "text/plain": [
       "(('จะมีผลข้างเคียงใดๆในระยะสั้นหรือระยะยาว', 0.00424137),\n",
       " [('จะมีผลข้างเคียงใดๆในระยะสั้นหรือระยะยาว', 0.00424137),\n",
       "  ('ติดเชื้อโควิดไวรัสจริงเข้ามา', 0.0024261223),\n",
       "  ('ประวัติศาสตร์', 0.0022650147)])"
      ]
     },
     "execution_count": 117,
     "metadata": {
      "tags": []
     },
     "output_type": "execute_result"
    }
   ],
   "source": [
    "ask_model(\"วัคซีน mRNA จะเข้าไปทำอะไรร่างกาย\", n=5)"
   ]
  },
  {
   "cell_type": "code",
   "execution_count": null,
   "metadata": {
    "id": "dIdZYhGoYHDJ"
   },
   "outputs": [],
   "source": []
  }
 ],
 "metadata": {
  "accelerator": "GPU",
  "colab": {
   "collapsed_sections": [],
   "name": "Vaccine_QA_BM25.ipynb",
   "provenance": []
  },
  "kernelspec": {
   "display_name": "Python 3",
   "language": "python",
   "name": "python3"
  },
  "language_info": {
   "codemirror_mode": {
    "name": "ipython",
    "version": 3
   },
   "file_extension": ".py",
   "mimetype": "text/x-python",
   "name": "python",
   "nbconvert_exporter": "python",
   "pygments_lexer": "ipython3",
   "version": "3.8.10"
  },
  "widgets": {
   "application/vnd.jupyter.widget-state+json": {
    "039c8d80a3854efe9596f7bbc97075cc": {
     "model_module": "@jupyter-widgets/controls",
     "model_name": "HTMLModel",
     "state": {
      "_dom_classes": [],
      "_model_module": "@jupyter-widgets/controls",
      "_model_module_version": "1.5.0",
      "_model_name": "HTMLModel",
      "_view_count": null,
      "_view_module": "@jupyter-widgets/controls",
      "_view_module_version": "1.5.0",
      "_view_name": "HTMLView",
      "description": "",
      "description_tooltip": null,
      "layout": "IPY_MODEL_3e65f81d91ce44c58259dc00e53623a8",
      "placeholder": "​",
      "style": "IPY_MODEL_57d7a01394c94037b218064215ee8b67",
      "value": " 546/546 [00:02&lt;00:00, 197B/s]"
     }
    },
    "05a410b2e2944c64bb3d0e1f8e7c2bc2": {
     "model_module": "@jupyter-widgets/base",
     "model_name": "LayoutModel",
     "state": {
      "_model_module": "@jupyter-widgets/base",
      "_model_module_version": "1.2.0",
      "_model_name": "LayoutModel",
      "_view_count": null,
      "_view_module": "@jupyter-widgets/base",
      "_view_module_version": "1.2.0",
      "_view_name": "LayoutView",
      "align_content": null,
      "align_items": null,
      "align_self": null,
      "border": null,
      "bottom": null,
      "display": null,
      "flex": null,
      "flex_flow": null,
      "grid_area": null,
      "grid_auto_columns": null,
      "grid_auto_flow": null,
      "grid_auto_rows": null,
      "grid_column": null,
      "grid_gap": null,
      "grid_row": null,
      "grid_template_areas": null,
      "grid_template_columns": null,
      "grid_template_rows": null,
      "height": null,
      "justify_content": null,
      "justify_items": null,
      "left": null,
      "margin": null,
      "max_height": null,
      "max_width": null,
      "min_height": null,
      "min_width": null,
      "object_fit": null,
      "object_position": null,
      "order": null,
      "overflow": null,
      "overflow_x": null,
      "overflow_y": null,
      "padding": null,
      "right": null,
      "top": null,
      "visibility": null,
      "width": null
     }
    },
    "08dbd952f69c40ffaff733251bcbd215": {
     "model_module": "@jupyter-widgets/controls",
     "model_name": "HBoxModel",
     "state": {
      "_dom_classes": [],
      "_model_module": "@jupyter-widgets/controls",
      "_model_module_version": "1.5.0",
      "_model_name": "HBoxModel",
      "_view_count": null,
      "_view_module": "@jupyter-widgets/controls",
      "_view_module_version": "1.5.0",
      "_view_name": "HBoxView",
      "box_style": "",
      "children": [
       "IPY_MODEL_e875dcb763234e1e952b7df5fe2f6f73",
       "IPY_MODEL_5c45386fab7a4147b993c0fd4ecf6419"
      ],
      "layout": "IPY_MODEL_13aeb1492b86453a9e4baa3148259908"
     }
    },
    "12f41cf2d5d74203b56f091a6f53ca3b": {
     "model_module": "@jupyter-widgets/controls",
     "model_name": "HBoxModel",
     "state": {
      "_dom_classes": [],
      "_model_module": "@jupyter-widgets/controls",
      "_model_module_version": "1.5.0",
      "_model_name": "HBoxModel",
      "_view_count": null,
      "_view_module": "@jupyter-widgets/controls",
      "_view_module_version": "1.5.0",
      "_view_name": "HBoxView",
      "box_style": "",
      "children": [
       "IPY_MODEL_82400a9a3fce4d37b745228f0f54cb4b",
       "IPY_MODEL_039c8d80a3854efe9596f7bbc97075cc"
      ],
      "layout": "IPY_MODEL_05a410b2e2944c64bb3d0e1f8e7c2bc2"
     }
    },
    "13aeb1492b86453a9e4baa3148259908": {
     "model_module": "@jupyter-widgets/base",
     "model_name": "LayoutModel",
     "state": {
      "_model_module": "@jupyter-widgets/base",
      "_model_module_version": "1.2.0",
      "_model_name": "LayoutModel",
      "_view_count": null,
      "_view_module": "@jupyter-widgets/base",
      "_view_module_version": "1.2.0",
      "_view_name": "LayoutView",
      "align_content": null,
      "align_items": null,
      "align_self": null,
      "border": null,
      "bottom": null,
      "display": null,
      "flex": null,
      "flex_flow": null,
      "grid_area": null,
      "grid_auto_columns": null,
      "grid_auto_flow": null,
      "grid_auto_rows": null,
      "grid_column": null,
      "grid_gap": null,
      "grid_row": null,
      "grid_template_areas": null,
      "grid_template_columns": null,
      "grid_template_rows": null,
      "height": null,
      "justify_content": null,
      "justify_items": null,
      "left": null,
      "margin": null,
      "max_height": null,
      "max_width": null,
      "min_height": null,
      "min_width": null,
      "object_fit": null,
      "object_position": null,
      "order": null,
      "overflow": null,
      "overflow_x": null,
      "overflow_y": null,
      "padding": null,
      "right": null,
      "top": null,
      "visibility": null,
      "width": null
     }
    },
    "142b6ceba51e468c9a1b58f04e8d2c8b": {
     "model_module": "@jupyter-widgets/controls",
     "model_name": "ProgressStyleModel",
     "state": {
      "_model_module": "@jupyter-widgets/controls",
      "_model_module_version": "1.5.0",
      "_model_name": "ProgressStyleModel",
      "_view_count": null,
      "_view_module": "@jupyter-widgets/base",
      "_view_module_version": "1.2.0",
      "_view_name": "StyleView",
      "bar_color": null,
      "description_width": "initial"
     }
    },
    "179d9c063dfc492b8a91afdd330696d4": {
     "model_module": "@jupyter-widgets/controls",
     "model_name": "ProgressStyleModel",
     "state": {
      "_model_module": "@jupyter-widgets/controls",
      "_model_module_version": "1.5.0",
      "_model_name": "ProgressStyleModel",
      "_view_count": null,
      "_view_module": "@jupyter-widgets/base",
      "_view_module_version": "1.2.0",
      "_view_name": "StyleView",
      "bar_color": null,
      "description_width": "initial"
     }
    },
    "262ad8eb4b864a859ef3b4dd800a371c": {
     "model_module": "@jupyter-widgets/controls",
     "model_name": "ProgressStyleModel",
     "state": {
      "_model_module": "@jupyter-widgets/controls",
      "_model_module_version": "1.5.0",
      "_model_name": "ProgressStyleModel",
      "_view_count": null,
      "_view_module": "@jupyter-widgets/base",
      "_view_module_version": "1.2.0",
      "_view_name": "StyleView",
      "bar_color": null,
      "description_width": "initial"
     }
    },
    "315d4ddbdd584f54993edc398dfea993": {
     "model_module": "@jupyter-widgets/controls",
     "model_name": "DescriptionStyleModel",
     "state": {
      "_model_module": "@jupyter-widgets/controls",
      "_model_module_version": "1.5.0",
      "_model_name": "DescriptionStyleModel",
      "_view_count": null,
      "_view_module": "@jupyter-widgets/base",
      "_view_module_version": "1.2.0",
      "_view_name": "StyleView",
      "description_width": ""
     }
    },
    "335e306507cb409b98b147c4e2e1761e": {
     "model_module": "@jupyter-widgets/base",
     "model_name": "LayoutModel",
     "state": {
      "_model_module": "@jupyter-widgets/base",
      "_model_module_version": "1.2.0",
      "_model_name": "LayoutModel",
      "_view_count": null,
      "_view_module": "@jupyter-widgets/base",
      "_view_module_version": "1.2.0",
      "_view_name": "LayoutView",
      "align_content": null,
      "align_items": null,
      "align_self": null,
      "border": null,
      "bottom": null,
      "display": null,
      "flex": null,
      "flex_flow": null,
      "grid_area": null,
      "grid_auto_columns": null,
      "grid_auto_flow": null,
      "grid_auto_rows": null,
      "grid_column": null,
      "grid_gap": null,
      "grid_row": null,
      "grid_template_areas": null,
      "grid_template_columns": null,
      "grid_template_rows": null,
      "height": null,
      "justify_content": null,
      "justify_items": null,
      "left": null,
      "margin": null,
      "max_height": null,
      "max_width": null,
      "min_height": null,
      "min_width": null,
      "object_fit": null,
      "object_position": null,
      "order": null,
      "overflow": null,
      "overflow_x": null,
      "overflow_y": null,
      "padding": null,
      "right": null,
      "top": null,
      "visibility": null,
      "width": null
     }
    },
    "3651a05e5fcc4ef2be93fd76592b08cc": {
     "model_module": "@jupyter-widgets/base",
     "model_name": "LayoutModel",
     "state": {
      "_model_module": "@jupyter-widgets/base",
      "_model_module_version": "1.2.0",
      "_model_name": "LayoutModel",
      "_view_count": null,
      "_view_module": "@jupyter-widgets/base",
      "_view_module_version": "1.2.0",
      "_view_name": "LayoutView",
      "align_content": null,
      "align_items": null,
      "align_self": null,
      "border": null,
      "bottom": null,
      "display": null,
      "flex": null,
      "flex_flow": null,
      "grid_area": null,
      "grid_auto_columns": null,
      "grid_auto_flow": null,
      "grid_auto_rows": null,
      "grid_column": null,
      "grid_gap": null,
      "grid_row": null,
      "grid_template_areas": null,
      "grid_template_columns": null,
      "grid_template_rows": null,
      "height": null,
      "justify_content": null,
      "justify_items": null,
      "left": null,
      "margin": null,
      "max_height": null,
      "max_width": null,
      "min_height": null,
      "min_width": null,
      "object_fit": null,
      "object_position": null,
      "order": null,
      "overflow": null,
      "overflow_x": null,
      "overflow_y": null,
      "padding": null,
      "right": null,
      "top": null,
      "visibility": null,
      "width": null
     }
    },
    "3e65f81d91ce44c58259dc00e53623a8": {
     "model_module": "@jupyter-widgets/base",
     "model_name": "LayoutModel",
     "state": {
      "_model_module": "@jupyter-widgets/base",
      "_model_module_version": "1.2.0",
      "_model_name": "LayoutModel",
      "_view_count": null,
      "_view_module": "@jupyter-widgets/base",
      "_view_module_version": "1.2.0",
      "_view_name": "LayoutView",
      "align_content": null,
      "align_items": null,
      "align_self": null,
      "border": null,
      "bottom": null,
      "display": null,
      "flex": null,
      "flex_flow": null,
      "grid_area": null,
      "grid_auto_columns": null,
      "grid_auto_flow": null,
      "grid_auto_rows": null,
      "grid_column": null,
      "grid_gap": null,
      "grid_row": null,
      "grid_template_areas": null,
      "grid_template_columns": null,
      "grid_template_rows": null,
      "height": null,
      "justify_content": null,
      "justify_items": null,
      "left": null,
      "margin": null,
      "max_height": null,
      "max_width": null,
      "min_height": null,
      "min_width": null,
      "object_fit": null,
      "object_position": null,
      "order": null,
      "overflow": null,
      "overflow_x": null,
      "overflow_y": null,
      "padding": null,
      "right": null,
      "top": null,
      "visibility": null,
      "width": null
     }
    },
    "459e3f0c13734540ad98345b9d26db51": {
     "model_module": "@jupyter-widgets/base",
     "model_name": "LayoutModel",
     "state": {
      "_model_module": "@jupyter-widgets/base",
      "_model_module_version": "1.2.0",
      "_model_name": "LayoutModel",
      "_view_count": null,
      "_view_module": "@jupyter-widgets/base",
      "_view_module_version": "1.2.0",
      "_view_name": "LayoutView",
      "align_content": null,
      "align_items": null,
      "align_self": null,
      "border": null,
      "bottom": null,
      "display": null,
      "flex": null,
      "flex_flow": null,
      "grid_area": null,
      "grid_auto_columns": null,
      "grid_auto_flow": null,
      "grid_auto_rows": null,
      "grid_column": null,
      "grid_gap": null,
      "grid_row": null,
      "grid_template_areas": null,
      "grid_template_columns": null,
      "grid_template_rows": null,
      "height": null,
      "justify_content": null,
      "justify_items": null,
      "left": null,
      "margin": null,
      "max_height": null,
      "max_width": null,
      "min_height": null,
      "min_width": null,
      "object_fit": null,
      "object_position": null,
      "order": null,
      "overflow": null,
      "overflow_x": null,
      "overflow_y": null,
      "padding": null,
      "right": null,
      "top": null,
      "visibility": null,
      "width": null
     }
    },
    "5095955c7d0e49048f75edd0383b2261": {
     "model_module": "@jupyter-widgets/base",
     "model_name": "LayoutModel",
     "state": {
      "_model_module": "@jupyter-widgets/base",
      "_model_module_version": "1.2.0",
      "_model_name": "LayoutModel",
      "_view_count": null,
      "_view_module": "@jupyter-widgets/base",
      "_view_module_version": "1.2.0",
      "_view_name": "LayoutView",
      "align_content": null,
      "align_items": null,
      "align_self": null,
      "border": null,
      "bottom": null,
      "display": null,
      "flex": null,
      "flex_flow": null,
      "grid_area": null,
      "grid_auto_columns": null,
      "grid_auto_flow": null,
      "grid_auto_rows": null,
      "grid_column": null,
      "grid_gap": null,
      "grid_row": null,
      "grid_template_areas": null,
      "grid_template_columns": null,
      "grid_template_rows": null,
      "height": null,
      "justify_content": null,
      "justify_items": null,
      "left": null,
      "margin": null,
      "max_height": null,
      "max_width": null,
      "min_height": null,
      "min_width": null,
      "object_fit": null,
      "object_position": null,
      "order": null,
      "overflow": null,
      "overflow_x": null,
      "overflow_y": null,
      "padding": null,
      "right": null,
      "top": null,
      "visibility": null,
      "width": null
     }
    },
    "529ccd6c4978440494a751bd7aae71e7": {
     "model_module": "@jupyter-widgets/controls",
     "model_name": "HTMLModel",
     "state": {
      "_dom_classes": [],
      "_model_module": "@jupyter-widgets/controls",
      "_model_module_version": "1.5.0",
      "_model_name": "HTMLModel",
      "_view_count": null,
      "_view_module": "@jupyter-widgets/controls",
      "_view_module_version": "1.5.0",
      "_view_name": "HTMLView",
      "description": "",
      "description_tooltip": null,
      "layout": "IPY_MODEL_c5149cd271224f18aacfc1e30574fbea",
      "placeholder": "​",
      "style": "IPY_MODEL_ef8c8be496c8446db94043be22f682d2",
      "value": " 423M/423M [00:10&lt;00:00, 39.1MB/s]"
     }
    },
    "57d7a01394c94037b218064215ee8b67": {
     "model_module": "@jupyter-widgets/controls",
     "model_name": "DescriptionStyleModel",
     "state": {
      "_model_module": "@jupyter-widgets/controls",
      "_model_module_version": "1.5.0",
      "_model_name": "DescriptionStyleModel",
      "_view_count": null,
      "_view_module": "@jupyter-widgets/base",
      "_view_module_version": "1.2.0",
      "_view_name": "StyleView",
      "description_width": ""
     }
    },
    "5c45386fab7a4147b993c0fd4ecf6419": {
     "model_module": "@jupyter-widgets/controls",
     "model_name": "HTMLModel",
     "state": {
      "_dom_classes": [],
      "_model_module": "@jupyter-widgets/controls",
      "_model_module_version": "1.5.0",
      "_model_name": "HTMLModel",
      "_view_count": null,
      "_view_module": "@jupyter-widgets/controls",
      "_view_module_version": "1.5.0",
      "_view_name": "HTMLView",
      "description": "",
      "description_tooltip": null,
      "layout": "IPY_MODEL_d582ff3e0a104d049cc0e240b8304bee",
      "placeholder": "​",
      "style": "IPY_MODEL_ef9e68091969495f827cf5eb8e454395",
      "value": " 282/282 [00:03&lt;00:00, 83.2B/s]"
     }
    },
    "5fd37e65ee10430dbed2f4ea74f7cffe": {
     "model_module": "@jupyter-widgets/controls",
     "model_name": "HBoxModel",
     "state": {
      "_dom_classes": [],
      "_model_module": "@jupyter-widgets/controls",
      "_model_module_version": "1.5.0",
      "_model_name": "HBoxModel",
      "_view_count": null,
      "_view_module": "@jupyter-widgets/controls",
      "_view_module_version": "1.5.0",
      "_view_name": "HBoxView",
      "box_style": "",
      "children": [
       "IPY_MODEL_900e8a55a9a843cb807c810953944bbf",
       "IPY_MODEL_529ccd6c4978440494a751bd7aae71e7"
      ],
      "layout": "IPY_MODEL_5095955c7d0e49048f75edd0383b2261"
     }
    },
    "6b165d77d622461b840d463c9b6949e7": {
     "model_module": "@jupyter-widgets/controls",
     "model_name": "FloatProgressModel",
     "state": {
      "_dom_classes": [],
      "_model_module": "@jupyter-widgets/controls",
      "_model_module_version": "1.5.0",
      "_model_name": "FloatProgressModel",
      "_view_count": null,
      "_view_module": "@jupyter-widgets/controls",
      "_view_module_version": "1.5.0",
      "_view_name": "ProgressView",
      "bar_style": "success",
      "description": "Downloading: 100%",
      "description_tooltip": null,
      "layout": "IPY_MODEL_459e3f0c13734540ad98345b9d26db51",
      "max": 904693,
      "min": 0,
      "orientation": "horizontal",
      "style": "IPY_MODEL_179d9c063dfc492b8a91afdd330696d4",
      "value": 904693
     }
    },
    "82400a9a3fce4d37b745228f0f54cb4b": {
     "model_module": "@jupyter-widgets/controls",
     "model_name": "FloatProgressModel",
     "state": {
      "_dom_classes": [],
      "_model_module": "@jupyter-widgets/controls",
      "_model_module_version": "1.5.0",
      "_model_name": "FloatProgressModel",
      "_view_count": null,
      "_view_module": "@jupyter-widgets/controls",
      "_view_module_version": "1.5.0",
      "_view_name": "ProgressView",
      "bar_style": "success",
      "description": "Downloading: 100%",
      "description_tooltip": null,
      "layout": "IPY_MODEL_d37146f85aea4336b467b7fb2ec90195",
      "max": 546,
      "min": 0,
      "orientation": "horizontal",
      "style": "IPY_MODEL_142b6ceba51e468c9a1b58f04e8d2c8b",
      "value": 546
     }
    },
    "900e8a55a9a843cb807c810953944bbf": {
     "model_module": "@jupyter-widgets/controls",
     "model_name": "FloatProgressModel",
     "state": {
      "_dom_classes": [],
      "_model_module": "@jupyter-widgets/controls",
      "_model_module_version": "1.5.0",
      "_model_name": "FloatProgressModel",
      "_view_count": null,
      "_view_module": "@jupyter-widgets/controls",
      "_view_module_version": "1.5.0",
      "_view_name": "ProgressView",
      "bar_style": "success",
      "description": "Downloading: 100%",
      "description_tooltip": null,
      "layout": "IPY_MODEL_335e306507cb409b98b147c4e2e1761e",
      "max": 423498558,
      "min": 0,
      "orientation": "horizontal",
      "style": "IPY_MODEL_90812b30829a41849818c87b7eda1c0a",
      "value": 423498558
     }
    },
    "90812b30829a41849818c87b7eda1c0a": {
     "model_module": "@jupyter-widgets/controls",
     "model_name": "ProgressStyleModel",
     "state": {
      "_model_module": "@jupyter-widgets/controls",
      "_model_module_version": "1.5.0",
      "_model_name": "ProgressStyleModel",
      "_view_count": null,
      "_view_module": "@jupyter-widgets/base",
      "_view_module_version": "1.2.0",
      "_view_name": "StyleView",
      "bar_color": null,
      "description_width": "initial"
     }
    },
    "91832ecf473f4775ad10a21f9a66b5ac": {
     "model_module": "@jupyter-widgets/base",
     "model_name": "LayoutModel",
     "state": {
      "_model_module": "@jupyter-widgets/base",
      "_model_module_version": "1.2.0",
      "_model_name": "LayoutModel",
      "_view_count": null,
      "_view_module": "@jupyter-widgets/base",
      "_view_module_version": "1.2.0",
      "_view_name": "LayoutView",
      "align_content": null,
      "align_items": null,
      "align_self": null,
      "border": null,
      "bottom": null,
      "display": null,
      "flex": null,
      "flex_flow": null,
      "grid_area": null,
      "grid_auto_columns": null,
      "grid_auto_flow": null,
      "grid_auto_rows": null,
      "grid_column": null,
      "grid_gap": null,
      "grid_row": null,
      "grid_template_areas": null,
      "grid_template_columns": null,
      "grid_template_rows": null,
      "height": null,
      "justify_content": null,
      "justify_items": null,
      "left": null,
      "margin": null,
      "max_height": null,
      "max_width": null,
      "min_height": null,
      "min_width": null,
      "object_fit": null,
      "object_position": null,
      "order": null,
      "overflow": null,
      "overflow_x": null,
      "overflow_y": null,
      "padding": null,
      "right": null,
      "top": null,
      "visibility": null,
      "width": null
     }
    },
    "9629612b6b1c4d0ca2104c0ca1aa8b9a": {
     "model_module": "@jupyter-widgets/controls",
     "model_name": "HBoxModel",
     "state": {
      "_dom_classes": [],
      "_model_module": "@jupyter-widgets/controls",
      "_model_module_version": "1.5.0",
      "_model_name": "HBoxModel",
      "_view_count": null,
      "_view_module": "@jupyter-widgets/controls",
      "_view_module_version": "1.5.0",
      "_view_name": "HBoxView",
      "box_style": "",
      "children": [
       "IPY_MODEL_6b165d77d622461b840d463c9b6949e7",
       "IPY_MODEL_d53edfba62e44a848acc47bfc5b627e7"
      ],
      "layout": "IPY_MODEL_e81fb4aa532d4abca2a67691cd37e14a"
     }
    },
    "c5149cd271224f18aacfc1e30574fbea": {
     "model_module": "@jupyter-widgets/base",
     "model_name": "LayoutModel",
     "state": {
      "_model_module": "@jupyter-widgets/base",
      "_model_module_version": "1.2.0",
      "_model_name": "LayoutModel",
      "_view_count": null,
      "_view_module": "@jupyter-widgets/base",
      "_view_module_version": "1.2.0",
      "_view_name": "LayoutView",
      "align_content": null,
      "align_items": null,
      "align_self": null,
      "border": null,
      "bottom": null,
      "display": null,
      "flex": null,
      "flex_flow": null,
      "grid_area": null,
      "grid_auto_columns": null,
      "grid_auto_flow": null,
      "grid_auto_rows": null,
      "grid_column": null,
      "grid_gap": null,
      "grid_row": null,
      "grid_template_areas": null,
      "grid_template_columns": null,
      "grid_template_rows": null,
      "height": null,
      "justify_content": null,
      "justify_items": null,
      "left": null,
      "margin": null,
      "max_height": null,
      "max_width": null,
      "min_height": null,
      "min_width": null,
      "object_fit": null,
      "object_position": null,
      "order": null,
      "overflow": null,
      "overflow_x": null,
      "overflow_y": null,
      "padding": null,
      "right": null,
      "top": null,
      "visibility": null,
      "width": null
     }
    },
    "d37146f85aea4336b467b7fb2ec90195": {
     "model_module": "@jupyter-widgets/base",
     "model_name": "LayoutModel",
     "state": {
      "_model_module": "@jupyter-widgets/base",
      "_model_module_version": "1.2.0",
      "_model_name": "LayoutModel",
      "_view_count": null,
      "_view_module": "@jupyter-widgets/base",
      "_view_module_version": "1.2.0",
      "_view_name": "LayoutView",
      "align_content": null,
      "align_items": null,
      "align_self": null,
      "border": null,
      "bottom": null,
      "display": null,
      "flex": null,
      "flex_flow": null,
      "grid_area": null,
      "grid_auto_columns": null,
      "grid_auto_flow": null,
      "grid_auto_rows": null,
      "grid_column": null,
      "grid_gap": null,
      "grid_row": null,
      "grid_template_areas": null,
      "grid_template_columns": null,
      "grid_template_rows": null,
      "height": null,
      "justify_content": null,
      "justify_items": null,
      "left": null,
      "margin": null,
      "max_height": null,
      "max_width": null,
      "min_height": null,
      "min_width": null,
      "object_fit": null,
      "object_position": null,
      "order": null,
      "overflow": null,
      "overflow_x": null,
      "overflow_y": null,
      "padding": null,
      "right": null,
      "top": null,
      "visibility": null,
      "width": null
     }
    },
    "d53edfba62e44a848acc47bfc5b627e7": {
     "model_module": "@jupyter-widgets/controls",
     "model_name": "HTMLModel",
     "state": {
      "_dom_classes": [],
      "_model_module": "@jupyter-widgets/controls",
      "_model_module_version": "1.5.0",
      "_model_name": "HTMLModel",
      "_view_count": null,
      "_view_module": "@jupyter-widgets/controls",
      "_view_module_version": "1.5.0",
      "_view_name": "HTMLView",
      "description": "",
      "description_tooltip": null,
      "layout": "IPY_MODEL_91832ecf473f4775ad10a21f9a66b5ac",
      "placeholder": "​",
      "style": "IPY_MODEL_315d4ddbdd584f54993edc398dfea993",
      "value": " 905k/905k [00:01&lt;00:00, 483kB/s]"
     }
    },
    "d582ff3e0a104d049cc0e240b8304bee": {
     "model_module": "@jupyter-widgets/base",
     "model_name": "LayoutModel",
     "state": {
      "_model_module": "@jupyter-widgets/base",
      "_model_module_version": "1.2.0",
      "_model_name": "LayoutModel",
      "_view_count": null,
      "_view_module": "@jupyter-widgets/base",
      "_view_module_version": "1.2.0",
      "_view_name": "LayoutView",
      "align_content": null,
      "align_items": null,
      "align_self": null,
      "border": null,
      "bottom": null,
      "display": null,
      "flex": null,
      "flex_flow": null,
      "grid_area": null,
      "grid_auto_columns": null,
      "grid_auto_flow": null,
      "grid_auto_rows": null,
      "grid_column": null,
      "grid_gap": null,
      "grid_row": null,
      "grid_template_areas": null,
      "grid_template_columns": null,
      "grid_template_rows": null,
      "height": null,
      "justify_content": null,
      "justify_items": null,
      "left": null,
      "margin": null,
      "max_height": null,
      "max_width": null,
      "min_height": null,
      "min_width": null,
      "object_fit": null,
      "object_position": null,
      "order": null,
      "overflow": null,
      "overflow_x": null,
      "overflow_y": null,
      "padding": null,
      "right": null,
      "top": null,
      "visibility": null,
      "width": null
     }
    },
    "e81fb4aa532d4abca2a67691cd37e14a": {
     "model_module": "@jupyter-widgets/base",
     "model_name": "LayoutModel",
     "state": {
      "_model_module": "@jupyter-widgets/base",
      "_model_module_version": "1.2.0",
      "_model_name": "LayoutModel",
      "_view_count": null,
      "_view_module": "@jupyter-widgets/base",
      "_view_module_version": "1.2.0",
      "_view_name": "LayoutView",
      "align_content": null,
      "align_items": null,
      "align_self": null,
      "border": null,
      "bottom": null,
      "display": null,
      "flex": null,
      "flex_flow": null,
      "grid_area": null,
      "grid_auto_columns": null,
      "grid_auto_flow": null,
      "grid_auto_rows": null,
      "grid_column": null,
      "grid_gap": null,
      "grid_row": null,
      "grid_template_areas": null,
      "grid_template_columns": null,
      "grid_template_rows": null,
      "height": null,
      "justify_content": null,
      "justify_items": null,
      "left": null,
      "margin": null,
      "max_height": null,
      "max_width": null,
      "min_height": null,
      "min_width": null,
      "object_fit": null,
      "object_position": null,
      "order": null,
      "overflow": null,
      "overflow_x": null,
      "overflow_y": null,
      "padding": null,
      "right": null,
      "top": null,
      "visibility": null,
      "width": null
     }
    },
    "e875dcb763234e1e952b7df5fe2f6f73": {
     "model_module": "@jupyter-widgets/controls",
     "model_name": "FloatProgressModel",
     "state": {
      "_dom_classes": [],
      "_model_module": "@jupyter-widgets/controls",
      "_model_module_version": "1.5.0",
      "_model_name": "FloatProgressModel",
      "_view_count": null,
      "_view_module": "@jupyter-widgets/controls",
      "_view_module_version": "1.5.0",
      "_view_name": "ProgressView",
      "bar_style": "success",
      "description": "Downloading: 100%",
      "description_tooltip": null,
      "layout": "IPY_MODEL_3651a05e5fcc4ef2be93fd76592b08cc",
      "max": 282,
      "min": 0,
      "orientation": "horizontal",
      "style": "IPY_MODEL_262ad8eb4b864a859ef3b4dd800a371c",
      "value": 282
     }
    },
    "ef8c8be496c8446db94043be22f682d2": {
     "model_module": "@jupyter-widgets/controls",
     "model_name": "DescriptionStyleModel",
     "state": {
      "_model_module": "@jupyter-widgets/controls",
      "_model_module_version": "1.5.0",
      "_model_name": "DescriptionStyleModel",
      "_view_count": null,
      "_view_module": "@jupyter-widgets/base",
      "_view_module_version": "1.2.0",
      "_view_name": "StyleView",
      "description_width": ""
     }
    },
    "ef9e68091969495f827cf5eb8e454395": {
     "model_module": "@jupyter-widgets/controls",
     "model_name": "DescriptionStyleModel",
     "state": {
      "_model_module": "@jupyter-widgets/controls",
      "_model_module_version": "1.5.0",
      "_model_name": "DescriptionStyleModel",
      "_view_count": null,
      "_view_module": "@jupyter-widgets/base",
      "_view_module_version": "1.2.0",
      "_view_name": "StyleView",
      "description_width": ""
     }
    }
   }
  }
 },
 "nbformat": 4,
 "nbformat_minor": 4
}
